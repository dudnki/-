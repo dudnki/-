{
  "nbformat": 4,
  "nbformat_minor": 0,
  "metadata": {
    "colab": {
      "name": "Python_DL_base_1.ipynb",
      "provenance": [],
      "collapsed_sections": []
    },
    "kernelspec": {
      "name": "python3",
      "display_name": "Python 3"
    },
    "language_info": {
      "name": "python"
    }
  },
  "cells": [
    {
      "cell_type": "markdown",
      "source": [
        "#퍼셉트론"
      ],
      "metadata": {
        "id": "HREbjUSFoOCq"
      }
    },
    {
      "cell_type": "markdown",
      "source": [
        "####AND 퍼셉트론 구현"
      ],
      "metadata": {
        "id": "lWZAJCEXoIe7"
      }
    },
    {
      "cell_type": "code",
      "execution_count": null,
      "metadata": {
        "id": "ZRdep7VQmcbp"
      },
      "outputs": [],
      "source": [
        "def AND(x1, x2):\n",
        "    w1, w2, theta = 0.5, 0.5, 0.7 #theta= 가중치\n",
        "    tmp = x1*w1 + x2*w2\n",
        "    if tmp <= theta:\n",
        "        return 0\n",
        "    elif tmp > theta:\n",
        "        return 1"
      ]
    },
    {
      "cell_type": "markdown",
      "source": [
        "####편향(바이어스)\n",
        "\n",
        "임계값의 부호만 바꾼 것\n",
        "\n"
      ],
      "metadata": {
        "id": "jMPM_QpeobC-"
      }
    },
    {
      "cell_type": "code",
      "source": [
        "import numpy as np\n",
        "x = np.array([0, 1])  #입력 \n",
        "w = np.array([0.5, 0.5]) #가중치\n",
        "b = -0.7                #편향\n",
        "print(w*x)\n",
        "print(np.sum(w*x) + b)   #대략 -0.2(부동소수점 수에 의한 연산오차)"
      ],
      "metadata": {
        "colab": {
          "base_uri": "https://localhost:8080/"
        },
        "id": "qhMmcak3oyyd",
        "outputId": "5d172aed-e849-4a25-f833-006c0d5d1021"
      },
      "execution_count": null,
      "outputs": [
        {
          "output_type": "stream",
          "name": "stdout",
          "text": [
            "[0.  0.5]\n",
            "-0.19999999999999996\n"
          ]
        }
      ]
    },
    {
      "cell_type": "markdown",
      "source": [
        "####가중치와 편향 구현하기"
      ],
      "metadata": {
        "id": "ISYqchebqBEL"
      }
    },
    {
      "cell_type": "markdown",
      "source": [
        "가중치와 편향을 포함한 AND게이트 구현"
      ],
      "metadata": {
        "id": "L7rLGd24qk52"
      }
    },
    {
      "cell_type": "code",
      "source": [
        "def AND(x1, x2):\n",
        "    x = np.array([x1, x1])\n",
        "    w = np.array([0.5, 0.5])\n",
        "    b = -0.7\n",
        "    tmp = np.sum(w*x) + b\n",
        "    if tmp > 0:\n",
        "        return 1\n",
        "    else:\n",
        "        return 0"
      ],
      "metadata": {
        "id": "3Jh1UT_yp0_R"
      },
      "execution_count": null,
      "outputs": []
    },
    {
      "cell_type": "markdown",
      "source": [
        "가중치와 편향을 포함한 NAND게이트와 OR게이트 구현\n",
        "\n",
        "\n"
      ],
      "metadata": {
        "id": "nlcSFxZTqo3I"
      }
    },
    {
      "cell_type": "code",
      "source": [
        "def NAND(x1, x2):\n",
        "    x = np.array([x1, x1])\n",
        "    w = np.array([-0.5, -0.5]) #AND와는 가중치만 다르다!\n",
        "    b = -0.7\n",
        "    tmp = np.sum(w*x) + b\n",
        "    if tmp > 0:\n",
        "        return 1\n",
        "    else:\n",
        "        return 0"
      ],
      "metadata": {
        "id": "92-KBiipq1_q"
      },
      "execution_count": null,
      "outputs": []
    },
    {
      "cell_type": "markdown",
      "source": [
        "##퍼셉트론의 한계"
      ],
      "metadata": {
        "id": "24lBC9-fu0po"
      }
    },
    {
      "cell_type": "markdown",
      "source": [
        "'단층 퍼셉트론'으로는 XOR게이트가 어렵다\n",
        "\n",
        "선형으로는 XOR을 구현할 수 없다.하지만 직선이라는 제약을 없앤다면 가능하다.\n",
        "\n"
      ],
      "metadata": {
        "id": "oHJFfIXJu6wh"
      }
    },
    {
      "cell_type": "markdown",
      "source": [
        "XOR 게이트를 만드는 방법은 다양하다 \n",
        "\n",
        "그중하나는 AND, NAND, OR게이트를 조합하는 방법이다."
      ],
      "metadata": {
        "id": "7ng7dwUFwIu8"
      }
    },
    {
      "cell_type": "markdown",
      "source": [
        "###XOR 게이트 구현하기"
      ],
      "metadata": {
        "id": "o1e_Zi8Ry8OD"
      }
    },
    {
      "cell_type": "code",
      "source": [
        "def XOR(x1, x2):\n",
        "    s1 = NAND(x1, x2)\n",
        "    s2 = OR(x1, x2)\n",
        "    y = AND(s1, s2)\n",
        "    return y"
      ],
      "metadata": {
        "id": "l0weaPgbu4PV"
      },
      "execution_count": null,
      "outputs": []
    },
    {
      "cell_type": "code",
      "source": [
        ""
      ],
      "metadata": {
        "id": "kTMkixE3zL1G"
      },
      "execution_count": null,
      "outputs": []
    }
  ]
}