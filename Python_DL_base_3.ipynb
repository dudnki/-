{
  "nbformat": 4,
  "nbformat_minor": 0,
  "metadata": {
    "colab": {
      "name": "Python_DL_base_3.ipynb",
      "provenance": [],
      "collapsed_sections": []
    },
    "kernelspec": {
      "name": "python3",
      "display_name": "Python 3"
    },
    "language_info": {
      "name": "python"
    }
  },
  "cells": [
    {
      "cell_type": "code",
      "execution_count": null,
      "metadata": {
        "id": "vKkrK72X47_g"
      },
      "outputs": [],
      "source": [
        "import numpy as np\n",
        "import matplotlib.pylab as plt\n",
        "def sigmoid(x):\n",
        "    return 1 / (1 + np.exp(-x)) # exp 자연상수의 제곱을 쓸 때 쓰임\n"
      ]
    },
    {
      "cell_type": "markdown",
      "source": [
        "#3.신경망"
      ],
      "metadata": {
        "id": "xsG8b7Yz79aq"
      }
    },
    {
      "cell_type": "markdown",
      "source": [
        "계단함수 구현하기\n",
        "\n",
        "이 함수는 단순하지만 부동소수점(실수)만 받아들인다. 따라서 넘파이 배열을 \n",
        "받을 수는 없다"
      ],
      "metadata": {
        "id": "w3OjAhcO8BsR"
      }
    },
    {
      "cell_type": "code",
      "source": [
        "def step_fucntion(x):\n",
        "    if x > 0:\n",
        "        return 1\n",
        "    else:\n",
        "        return 0\n"
      ],
      "metadata": {
        "id": "wFdT3UvL78-p"
      },
      "execution_count": null,
      "outputs": []
    },
    {
      "cell_type": "markdown",
      "source": [
        "넘파이 배열도 받을 수 있는 함수"
      ],
      "metadata": {
        "id": "a-MT2xiZ8kS8"
      }
    },
    {
      "cell_type": "code",
      "source": [
        "def step_function(x):\n",
        "    y = x > 0\n",
        "    return y.astype(np.int) # astype(np.자료형) np배열의 자료형을 한번에 바꿔주는 함수 \n"
      ],
      "metadata": {
        "id": "yM3K7cmK8jqX"
      },
      "execution_count": null,
      "outputs": []
    },
    {
      "cell_type": "code",
      "source": [
        "x = np.array([-1, 0, 1, -3, 2])\n",
        "y = x > 0\n",
        "print(y)"
      ],
      "metadata": {
        "colab": {
          "base_uri": "https://localhost:8080/"
        },
        "id": "-pegNUoI-pQ1",
        "outputId": "67365246-99f2-4b60-9ab4-a4102d60eb81"
      },
      "execution_count": null,
      "outputs": [
        {
          "output_type": "stream",
          "name": "stdout",
          "text": [
            "[False False  True False  True]\n"
          ]
        }
      ]
    },
    {
      "cell_type": "markdown",
      "source": [
        "##계단함수의 그래프"
      ],
      "metadata": {
        "id": "CLXtELqO_zY8"
      }
    },
    {
      "cell_type": "code",
      "source": [
        "import numpy as np \n",
        "import matplotlib.pylab as plt\n",
        "def step_function(x):\n",
        "    return np.array(x > 0, dtype=np.int)\n",
        "x = np.arange(-5.0, 5.0, 0.1)\n",
        "y = step_function(x)\n",
        "plt.plot(x, y)\n",
        "plt.ylim(-0.1, 1.1)\n",
        "plt.show()"
      ],
      "metadata": {
        "colab": {
          "base_uri": "https://localhost:8080/",
          "height": 339
        },
        "id": "q7A5wgav_mYJ",
        "outputId": "5d4c9c26-235c-4b68-8d2a-4a6e3fd9895a"
      },
      "execution_count": null,
      "outputs": [
        {
          "output_type": "stream",
          "name": "stderr",
          "text": [
            "/usr/local/lib/python3.7/dist-packages/ipykernel_launcher.py:4: DeprecationWarning: `np.int` is a deprecated alias for the builtin `int`. To silence this warning, use `int` by itself. Doing this will not modify any behavior and is safe. When replacing `np.int`, you may wish to use e.g. `np.int64` or `np.int32` to specify the precision. If you wish to review your current use, check the release note link for additional information.\n",
            "Deprecated in NumPy 1.20; for more details and guidance: https://numpy.org/devdocs/release/1.20.0-notes.html#deprecations\n",
            "  after removing the cwd from sys.path.\n"
          ]
        },
        {
          "output_type": "display_data",
          "data": {
            "text/plain": [
              "<Figure size 432x288 with 1 Axes>"
            ],
            "image/png": "[encoded data removed]"
          },
          "metadata": {
            "needs_background": "light"
          }
        }
      ]
    },
    {
      "cell_type": "markdown",
      "source": [
        "##시그모이드 함수 "
      ],
      "metadata": {
        "id": "rGwD9k5aCe5V"
      }
    },
    {
      "cell_type": "code",
      "source": [
        "def sigmoid(x):\n",
        "    return 1 / (1 + np.exp(-x)) # exp 자연상수의 제곱을 쓸 때 쓰임\n"
      ],
      "metadata": {
        "id": "hU7mRf_EBiuk"
      },
      "execution_count": null,
      "outputs": []
    },
    {
      "cell_type": "code",
      "source": [
        "x = np.array([-1.0, 3, 4, -1.3])\n",
        "print(sigmoid(x))"
      ],
      "metadata": {
        "colab": {
          "base_uri": "https://localhost:8080/"
        },
        "id": "ekH7OczfEU1N",
        "outputId": "374fd062-6d5e-4ede-b0c9-b78db4107afa"
      },
      "execution_count": null,
      "outputs": [
        {
          "output_type": "stream",
          "name": "stdout",
          "text": [
            "[0.26894142 0.95257413 0.98201379 0.21416502]\n"
          ]
        }
      ]
    },
    {
      "cell_type": "markdown",
      "source": [
        "##브로드 케스트\n",
        "\n",
        "장점:편리함\n",
        "\n",
        "단점:어디서 틀렸는지 찾기 힘듬\n"
      ],
      "metadata": {
        "id": "OAlKqSAgHC6G"
      }
    },
    {
      "cell_type": "code",
      "source": [
        "t = np.array([1.0, 2.0, 3.0])\n",
        "print(t)\n",
        "print(2.0 + t)\n",
        "print(t / 3)"
      ],
      "metadata": {
        "colab": {
          "base_uri": "https://localhost:8080/"
        },
        "id": "j8W6WnIyFt9u",
        "outputId": "727d90e9-82b1-4630-d434-752421bc637e"
      },
      "execution_count": null,
      "outputs": [
        {
          "output_type": "stream",
          "name": "stdout",
          "text": [
            "[1. 2. 3.]\n",
            "[3. 4. 5.]\n",
            "[0.33333333 0.66666667 1.        ]\n"
          ]
        }
      ]
    },
    {
      "cell_type": "code",
      "source": [
        "x = np.arange(-5.0 , 5.0, 0.1)\n",
        "y = sigmoid(x)\n",
        "plt.plot(x, y) #x축 y축 값 지정\n",
        "plt.ylim(-0.1, 1.1) #y축 범위 설정\n",
        "plt.show()"
      ],
      "metadata": {
        "colab": {
          "base_uri": "https://localhost:8080/",
          "height": 265
        },
        "id": "h4FpF2VLGfrW",
        "outputId": "d429e39b-c662-44b4-e145-62346c848ec5"
      },
      "execution_count": null,
      "outputs": [
        {
          "output_type": "display_data",
          "data": {
            "text/plain": [
              "<Figure size 432x288 with 1 Axes>"
            ],
            "image/png": "[encoded data removed]"
          },
          "metadata": {
            "needs_background": "light"
          }
        }
      ]
    },
    {
      "cell_type": "markdown",
      "source": [
        "##ReLU 함수"
      ],
      "metadata": {
        "id": "K_vh7LY7K5jo"
      }
    },
    {
      "cell_type": "code",
      "source": [
        "def relu(x):\n",
        "    return np.maximum(0, x)# maximum은 두 입력값중 큰 값을 선택해 반환하는 함수\n",
        "    "
      ],
      "metadata": {
        "id": "FT78RUQPIC7C"
      },
      "execution_count": null,
      "outputs": []
    },
    {
      "cell_type": "markdown",
      "source": [
        "다차원 배열의 계산"
      ],
      "metadata": {
        "id": "GOt-xN52LebP"
      }
    },
    {
      "cell_type": "markdown",
      "source": [
        "1차원 배열"
      ],
      "metadata": {
        "id": "FRM64kU-NDXt"
      }
    },
    {
      "cell_type": "code",
      "source": [
        "import numpy as np\n",
        "A = np.array([1, 2, 3, 4])\n",
        "print(A)\n",
        "print(np.ndim(A)) #차원이 몇차원인지 출력해주는 함수\n",
        "print(A.shape) #배열의 형상을 '튜플'타입으로 확인해준다\n",
        "print(A.shape[0])\n",
        "\n"
      ],
      "metadata": {
        "colab": {
          "base_uri": "https://localhost:8080/"
        },
        "id": "6NlPVwDTLd-k",
        "outputId": "37c2cc41-3757-4c30-ba87-c8f96a7e0855"
      },
      "execution_count": null,
      "outputs": [
        {
          "output_type": "stream",
          "name": "stdout",
          "text": [
            "[1 2 3 4]\n",
            "(4,)\n",
            "4\n"
          ]
        }
      ]
    },
    {
      "cell_type": "markdown",
      "source": [
        "2차원 배열"
      ],
      "metadata": {
        "id": "LuWnaURDNFQ1"
      }
    },
    {
      "cell_type": "code",
      "source": [
        "B = np.array([[1, 2], [3, 4], [5, 6]])\n",
        "print(B)\n",
        "print(np.ndim(B))\n",
        "print(B.shape)"
      ],
      "metadata": {
        "colab": {
          "base_uri": "https://localhost:8080/"
        },
        "id": "TdhRl8LaMKac",
        "outputId": "3e1146ce-25c5-47cf-e923-65aa289a3e73"
      },
      "execution_count": null,
      "outputs": [
        {
          "output_type": "stream",
          "name": "stdout",
          "text": [
            "[[1 2]\n",
            " [3 4]\n",
            " [5 6]]\n",
            "2\n",
            "(3, 2)\n"
          ]
        }
      ]
    },
    {
      "cell_type": "markdown",
      "source": [
        "행렬의 곱"
      ],
      "metadata": {
        "id": "j9t3j8HAOQxk"
      }
    },
    {
      "cell_type": "code",
      "source": [
        "A = np.array([[1, 2], [3, 4]]) \n",
        "print(A.shape)\n",
        "B = np.array([[5, 6], [7, 8]])\n",
        "print(B.shape)\n",
        "print(np.dot(A, B)) #행렬 곱 계산\n"
      ],
      "metadata": {
        "colab": {
          "base_uri": "https://localhost:8080/"
        },
        "id": "3N3SBv6GNVHT",
        "outputId": "e4e0c365-9e1e-41d5-e46f-ec2da2b21864"
      },
      "execution_count": null,
      "outputs": [
        {
          "output_type": "stream",
          "name": "stdout",
          "text": [
            "(2, 2)\n",
            "(2, 2)\n",
            "[[19 22]\n",
            " [43 50]]\n"
          ]
        }
      ]
    },
    {
      "cell_type": "markdown",
      "source": [
        "신경망에서 행렬의 곱"
      ],
      "metadata": {
        "id": "050dH9vCsm_2"
      }
    },
    {
      "cell_type": "code",
      "source": [
        "X = np.array([1, 2])\n",
        "print(X.shape)\n",
        "W = np.array([[1, 2, 3], [4, 5, 6]])\n",
        "print(W.shape)\n",
        "Y = np.dot(X, W)\n",
        "print(Y)"
      ],
      "metadata": {
        "colab": {
          "base_uri": "https://localhost:8080/"
        },
        "id": "UgXQ6zGVsprI",
        "outputId": "b82b1cfc-00e3-4e61-a5ed-45e6d00d53ed"
      },
      "execution_count": null,
      "outputs": [
        {
          "output_type": "stream",
          "name": "stdout",
          "text": [
            "(2,)\n",
            "(2, 3)\n",
            "[ 9 12 15]\n"
          ]
        }
      ]
    },
    {
      "cell_type": "markdown",
      "source": [
        "## 신경망 구현하기"
      ],
      "metadata": {
        "id": "InIVlaHmRR2l"
      }
    },
    {
      "cell_type": "markdown",
      "source": [
        "### 각 층의 신호전달 구현하기"
      ],
      "metadata": {
        "id": "1HMKcOWavPFF"
      }
    },
    {
      "cell_type": "markdown",
      "source": [
        "2층 신경망 \n",
        "\n",
        "처음의 노드가 2개 있고 은닉층 1개가 있는 구현\n",
        "\n",
        "은닉층에서의 가중치의 합을 a로 표기하고 활성화 함수를 h()로 변환된 신호를 z로 표기한다. "
      ],
      "metadata": {
        "id": "02SpAkTQxI0k"
      }
    },
    {
      "cell_type": "markdown",
      "source": [
        "1층"
      ],
      "metadata": {
        "id": "drzGwp1I0KkT"
      }
    },
    {
      "cell_type": "code",
      "source": [
        "X = np.array([1.0, 0.5])\n",
        "W1 = np.array([[0.1, 0.3, 0.5], [0.2, 0.4, 0.6]])\n",
        "B1 = np.array([0.1, 0.2, 0.3])\n",
        "\n",
        "A1 = np.dot(X, W1) + B1\n",
        "print(A1)"
      ],
      "metadata": {
        "id": "RG-6Hqw5OoNU",
        "colab": {
          "base_uri": "https://localhost:8080/"
        },
        "outputId": "d002e8f2-c350-4913-c6aa-83f810468411"
      },
      "execution_count": null,
      "outputs": [
        {
          "output_type": "stream",
          "name": "stdout",
          "text": [
            "[0.3 0.7 1.1]\n"
          ]
        }
      ]
    },
    {
      "cell_type": "code",
      "source": [
        "Z1 = sigmoid(A1)\n",
        "\n",
        "print(A1) \n",
        "print(Z1)"
      ],
      "metadata": {
        "colab": {
          "base_uri": "https://localhost:8080/"
        },
        "id": "ng19QcQ_wnac",
        "outputId": "96228ee8-ae5b-4013-ca2b-cbbde318855f"
      },
      "execution_count": null,
      "outputs": [
        {
          "output_type": "stream",
          "name": "stdout",
          "text": [
            "[0.3 0.7 1.1]\n",
            "[0.57444252 0.66818777 0.75026011]\n"
          ]
        }
      ]
    },
    {
      "cell_type": "markdown",
      "source": [
        "2층(은닉층)"
      ],
      "metadata": {
        "id": "sjMmqp6V0M_A"
      }
    },
    {
      "cell_type": "code",
      "source": [
        "W2 = np.array([[0.1, 0.4], [0.2, 0.5], [0.3, 0.6]])\n",
        "B2 = np.array([0.1, 0.2])\n",
        "\n",
        "print(Z1.shape)\n",
        "print(W2.shape)\n",
        "print(B2.shape)\n",
        "\n",
        "A2 = np.dot(Z1, W2) +B2\n",
        "Z2 = sigmoid(A2)\n",
        "print(Z2)\n"
      ],
      "metadata": {
        "colab": {
          "base_uri": "https://localhost:8080/"
        },
        "id": "qNC6Fc5VzN1q",
        "outputId": "108e1fa1-4bd7-4d82-9eaa-5b367e593612"
      },
      "execution_count": null,
      "outputs": [
        {
          "output_type": "stream",
          "name": "stdout",
          "text": [
            "(3,)\n",
            "(3, 2)\n",
            "(2,)\n",
            "[0.60256397 0.73380749]\n"
          ]
        }
      ]
    },
    {
      "cell_type": "markdown",
      "source": [
        "출력층"
      ],
      "metadata": {
        "id": "e7R-PD9Y0V23"
      }
    },
    {
      "cell_type": "code",
      "source": [
        "def identity_function(x):\n",
        "    return x\n",
        "\n",
        "W3 = np.array([[0.1, 0.3], [0.2, 0.4]])\n",
        "B3 = np.array([0.1, 0.2])\n",
        "\n",
        "A3 = np.dot(Z2, W3) + B3\n",
        "Y = identity_function(A3) #혹은 Y = A3"
      ],
      "metadata": {
        "id": "HxS5WhRlz2R7"
      },
      "execution_count": null,
      "outputs": []
    },
    {
      "cell_type": "markdown",
      "source": [
        "###구현 정리"
      ],
      "metadata": {
        "id": "7NuepC2X1OuS"
      }
    },
    {
      "cell_type": "code",
      "source": [
        "def init_network():\n",
        "    network = {}\n",
        "    network['W1'] = np.array([[0.1, 0.3, 0.5], [0.2, 0.4, 0.6]])\n",
        "    network['b1'] = np.array([0.1, 0.3, 0.3])\n",
        "    network['W2'] = np.array([[0.1, 0.4], [0.2, 0.5], [0.3, 0.6]])\n",
        "    network['b2'] = np.array([0.1, 0.2])\n",
        "    network['W3'] = np.array([[0.1, 0.3], [0.2, 0.4]])\n",
        "    network['b3'] = np.array([0.1, 0.2])\n",
        "\n",
        "    return network\n",
        "\n",
        "def forward(network, x):\n",
        "    W1, W2, W3 = network['W1'], network['W2'], network['W3']\n",
        "    b1, b2, b3 = network['b1'], network['b2'], network['b3']\n",
        "\n",
        "    a1 = np.dot(x, W1) + b1\n",
        "    z1 = sigmoid(a1)\n",
        "    a2 = np.dot(z1, W2) + b2\n",
        "    z2 = sigmoid(a2)\n",
        "    a3 = np.dot(z2, W3) + b3\n",
        "    y = identity_function(a3)\n",
        "\n",
        "    return y\n",
        "\n",
        "network = init_network()\n",
        "x = np.array([1.0, 0.5])\n",
        "y = forward(network, x)\n",
        "print(y) "
      ],
      "metadata": {
        "colab": {
          "base_uri": "https://localhost:8080/"
        },
        "id": "Fgm7xBea1DJr",
        "outputId": "aa8e5a9f-50b5-4139-8e92-a05cfd0cba9f"
      },
      "execution_count": null,
      "outputs": [
        {
          "output_type": "stream",
          "name": "stdout",
          "text": [
            "[0.31731252 0.69735192]\n"
          ]
        }
      ]
    },
    {
      "cell_type": "markdown",
      "source": [
        "## 출력층 설계하기"
      ],
      "metadata": {
        "id": "ju9ULu6O3xmv"
      }
    },
    {
      "cell_type": "markdown",
      "source": [
        "신경망은 분류와 회기 문제로 나눌 수 있다. 다만 둘 중 어떤문제냐에 따라 출력층에서 사용하는 함수가 달라진다. 일반적으로 회귀에는 항등함수를 분류문제에는 소프트맥스 함수를 사용한다."
      ],
      "metadata": {
        "id": "ofBz10Rj30VV"
      }
    },
    {
      "cell_type": "markdown",
      "source": [
        "분류는 데이터가 어떤 클래스에 속하는지 판단하는 문제이다. 한편 회귀는 입력 데이터에서 (연속적인) 수치를 예측하는 문제이다."
      ],
      "metadata": {
        "id": "LWT2LUk04LhT"
      }
    },
    {
      "cell_type": "markdown",
      "source": [
        "###소프트맥스 함수"
      ],
      "metadata": {
        "id": "lURl-X7--bTk"
      }
    },
    {
      "cell_type": "code",
      "source": [
        "a = np.array([0.3, 2.9, 4.0])\n",
        "\n",
        "exp_a = np.exp(a) #지수 함수 e의 a승\n",
        "print(exp_a)\n",
        "\n",
        "sum_exp_a = np.sum(exp_a) # 지수 함수의 합\n",
        "print(sum_exp_a)\n",
        "\n",
        "y = exp_a/ sum_exp_a\n",
        "print(y)"
      ],
      "metadata": {
        "colab": {
          "base_uri": "https://localhost:8080/"
        },
        "id": "p7P0ona23Zda",
        "outputId": "baa27460-393e-4abe-fc22-4a5b1c76857c"
      },
      "execution_count": null,
      "outputs": [
        {
          "output_type": "stream",
          "name": "stdout",
          "text": [
            "[ 1.34985881 18.17414537 54.59815003]\n",
            "74.1221542101633\n",
            "[0.01821127 0.24519181 0.73659691]\n"
          ]
        }
      ]
    },
    {
      "cell_type": "code",
      "source": [
        "def softmax(a):\n",
        "    exp_a = np.exp(a)\n",
        "    sum_exp_a = np.sum(exp_a)\n",
        "    y = exp_a / sum_exp_a\n",
        "\n",
        "    return y "
      ],
      "metadata": {
        "id": "28EpZscJ-qD9"
      },
      "execution_count": null,
      "outputs": []
    },
    {
      "cell_type": "markdown",
      "source": [
        "#### 소프트맥스 함수 구현시 주의할점"
      ],
      "metadata": {
        "id": "l78GfZ4Q_vbp"
      }
    },
    {
      "cell_type": "markdown",
      "source": [
        "앞에서 구현한 softmax()함수는 식을 제대로 표현하지만, 컴퓨터로 계산할 때에는 오버플로의 문제가 있다. "
      ],
      "metadata": {
        "id": "HKeRVTPv_1ld"
      }
    },
    {
      "cell_type": "markdown",
      "source": [
        "수식 그대로 계산하면 nan(not a number)이 출력된다. 하지만 입력신호중 최댓값을 빼주면 올바르게 계산이 가능하다."
      ],
      "metadata": {
        "id": "cf3kSC4lW3Ws"
      }
    },
    {
      "cell_type": "code",
      "source": [
        "a = np.array([1010, 1000, 990])\n",
        "np.exp(a) / np.sum(np.exp(a)) #숫자가 커져 오버플로가 일어나서 불가능\n",
        "c = np.max(a)\n",
        "print(a - c)\n",
        "\n",
        "np.exp(a - c) / np.sum(np.exp(a - c))"
      ],
      "metadata": {
        "id": "rO6dDg0V_oYy",
        "colab": {
          "base_uri": "https://localhost:8080/"
        },
        "outputId": "60529d85-67b4-42b9-aea7-7d8eb443a2e9"
      },
      "execution_count": null,
      "outputs": [
        {
          "output_type": "stream",
          "name": "stdout",
          "text": [
            "[  0 -10 -20]\n"
          ]
        },
        {
          "output_type": "stream",
          "name": "stderr",
          "text": [
            "/usr/local/lib/python3.7/dist-packages/ipykernel_launcher.py:2: RuntimeWarning: overflow encountered in exp\n",
            "  \n",
            "/usr/local/lib/python3.7/dist-packages/ipykernel_launcher.py:2: RuntimeWarning: invalid value encountered in true_divide\n",
            "  \n"
          ]
        },
        {
          "output_type": "execute_result",
          "data": {
            "text/plain": [
              "array([9.99954600e-01, 4.53978686e-05, 2.06106005e-09])"
            ]
          },
          "metadata": {},
          "execution_count": 4
        }
      ]
    },
    {
      "cell_type": "code",
      "source": [
        "def softmax(a):\n",
        "    c = np.max(a)\n",
        "    exp_a = np.exp(a - c) # 오버플로 대책\n",
        "    sum_exp_a = np.sum(exp_a)\n",
        "    y = exp_a / sum_exp_a \n",
        "    \n",
        "    return y"
      ],
      "metadata": {
        "id": "DspgGV6bXULE"
      },
      "execution_count": null,
      "outputs": []
    },
    {
      "cell_type": "markdown",
      "source": [
        "##소프트 맥스 함수의 특징"
      ],
      "metadata": {
        "id": "UsowgcQYW2sp"
      }
    },
    {
      "cell_type": "markdown",
      "source": [
        "1. 출력이 0과 1사이에 있다. \n",
        "\n",
        "2. 출력총합이 1이 된다."
      ],
      "metadata": {
        "id": "f1oiITG8ZIwj"
      }
    },
    {
      "cell_type": "markdown",
      "source": [
        "이 성질들 덕분에 소프트 맥스함수의 출력을 '확률'로 해석할 수 있습니다.\n",
        "\n",
        "가령 앞에 예에서 y[0]의 확률은 0.018, y[1]의 확률은 0.245(24.5%), y[2]의 확률은 0.737(73.7%)로 해석할 수 있습니다. 그리고 이결과 확률들로부터 \"2번째 원소의 확률이 가장 높으니, 답은 2번째 클레스다\"라고 할 수 있습니다.따라서 소프트맥스함수를 출력함수로 사용하게 되면 문제를 확률적으로 대응할 수 있게 된 것입니다.\n",
        "\n",
        "하지만 신경망을 이용한 분류에서는 일반적으로 가장 큰 출력을 나타내는 뉴런에 해당하는 클래스로만 인식한다. 그리고 소프트 맥스함수는 단조 증가함수이기 때문에 요소간에 대소는 달라지지 않는다. 따라서 신경망을 이용한 분류에서는 소프트맥스함수를 생략하는 것이 계산 낭비가 없는 것이다."
      ],
      "metadata": {
        "id": "U-KEvsoQa35x"
      }
    },
    {
      "cell_type": "code",
      "source": [
        "a = np.array([0.3, 2.9, 4.0])\n",
        "y = softmax(a)\n",
        "print(y)\n",
        "np.sum(y)\n"
      ],
      "metadata": {
        "colab": {
          "base_uri": "https://localhost:8080/"
        },
        "id": "WUrDwEknVlJM",
        "outputId": "b9bb7c9d-9659-4af5-e674-0cb53638ca81"
      },
      "execution_count": null,
      "outputs": [
        {
          "output_type": "stream",
          "name": "stdout",
          "text": [
            "[0.01821127 0.24519181 0.73659691]\n"
          ]
        },
        {
          "output_type": "execute_result",
          "data": {
            "text/plain": [
              "1.0"
            ]
          },
          "metadata": {},
          "execution_count": 7
        }
      ]
    },
    {
      "cell_type": "markdown",
      "source": [
        "###출력층의 뉴런 수 정하기"
      ],
      "metadata": {
        "id": "SLvYlMR6cN7-"
      }
    },
    {
      "cell_type": "markdown",
      "source": [
        "출력층의 뉴런 수는 풀려는 문제에 맞게 정해야 한다. 분류하고 싶은 클래스의 수로 설정하는 것이 일반적이다. "
      ],
      "metadata": {
        "id": "NwSJuLORdYbV"
      }
    },
    {
      "cell_type": "markdown",
      "source": [
        "### 손글씨 숫자 인식"
      ],
      "metadata": {
        "id": "-RUk71SHduaf"
      }
    },
    {
      "cell_type": "markdown",
      "source": [
        "####MINIST 데이터 셋\n",
        "\n",
        "MINIST는 기계학습 분야에서 아주 유명한 데이터셋으로, 간단한 실험부터 논문으로 발표되는 연구까지 다양한 곳에서 이용중"
      ],
      "metadata": {
        "id": "8MW3OpRfd1oB"
      }
    },
    {
      "cell_type": "markdown",
      "source": [
        "MINIST 데이터셋은 0부터 9까지의 숫자 이미지로 구성된다. 훈련이미지가 60000장, 시험이미지가 10000장 준비되어 있습니다. 일반적으로 이 훈련이미지들을 사용하여 모델을 학습하고, 학습한 모델로 시험이미지들을 얼마나 정확하게 분류하는지 평가한다. "
      ],
      "metadata": {
        "id": "J5f1J3PzeHO-"
      }
    },
    {
      "cell_type": "code",
      "source": [
        "import sys, os\n",
        "sys.path.append(os.pardir) #부모디렉터리의 파일을 가져올 수 있도록 설정\n",
        "from dataset.mnist import load_mnist\n",
        "\n",
        "(x_train, t_train), (x_test, t_test) =load_mnist(flatten=True, normalize=False)\n",
        "\n",
        "#각데이터의 형상 출력\n",
        "print(x_train.shape) # (60000, 784)\n",
        "print(t_trian.shape) # (60000,)\n",
        "print(x_test.shape) # (10000, 784)\n",
        "print(t_test.shape) # (10000,)"
      ],
      "metadata": {
        "colab": {
          "base_uri": "https://localhost:8080/",
          "height": 390
        },
        "id": "sQsg1D4tZEtI",
        "outputId": "0d37741a-cf8e-4c92-a59a-9b64513ceac1"
      },
      "execution_count": null,
      "outputs": [
        {
          "output_type": "error",
          "ename": "ModuleNotFoundError",
          "evalue": "ignored",
          "traceback": [
            "\u001b[0;31m---------------------------------------------------------------------------\u001b[0m",
            "\u001b[0;31mModuleNotFoundError\u001b[0m                       Traceback (most recent call last)",
            "\u001b[0;32m<ipython-input-1-545b947fe480>\u001b[0m in \u001b[0;36m<module>\u001b[0;34m()\u001b[0m\n\u001b[1;32m      1\u001b[0m \u001b[0;32mimport\u001b[0m \u001b[0msys\u001b[0m\u001b[0;34m,\u001b[0m \u001b[0mos\u001b[0m\u001b[0;34m\u001b[0m\u001b[0;34m\u001b[0m\u001b[0m\n\u001b[1;32m      2\u001b[0m \u001b[0msys\u001b[0m\u001b[0;34m.\u001b[0m\u001b[0mpath\u001b[0m\u001b[0;34m.\u001b[0m\u001b[0mappend\u001b[0m\u001b[0;34m(\u001b[0m\u001b[0mos\u001b[0m\u001b[0;34m.\u001b[0m\u001b[0mpardir\u001b[0m\u001b[0;34m)\u001b[0m \u001b[0;31m#부모디렉터리의 파일을 가져올 수 있도록 설정\u001b[0m\u001b[0;34m\u001b[0m\u001b[0;34m\u001b[0m\u001b[0m\n\u001b[0;32m----> 3\u001b[0;31m \u001b[0;32mfrom\u001b[0m \u001b[0mdataset\u001b[0m\u001b[0;34m.\u001b[0m\u001b[0mmnist\u001b[0m \u001b[0;32mimport\u001b[0m \u001b[0mload_mnist\u001b[0m\u001b[0;34m\u001b[0m\u001b[0;34m\u001b[0m\u001b[0m\n\u001b[0m\u001b[1;32m      4\u001b[0m \u001b[0;34m\u001b[0m\u001b[0m\n\u001b[1;32m      5\u001b[0m \u001b[0;34m(\u001b[0m\u001b[0mx_train\u001b[0m\u001b[0;34m,\u001b[0m \u001b[0mt_train\u001b[0m\u001b[0;34m)\u001b[0m\u001b[0;34m,\u001b[0m \u001b[0;34m(\u001b[0m\u001b[0mx_test\u001b[0m\u001b[0;34m,\u001b[0m \u001b[0mt_test\u001b[0m\u001b[0;34m)\u001b[0m \u001b[0;34m=\u001b[0m\u001b[0mload_mnist\u001b[0m\u001b[0;34m(\u001b[0m\u001b[0mflatten\u001b[0m\u001b[0;34m=\u001b[0m\u001b[0;32mTrue\u001b[0m\u001b[0;34m,\u001b[0m \u001b[0mnormalize\u001b[0m\u001b[0;34m=\u001b[0m\u001b[0;32mFalse\u001b[0m\u001b[0;34m)\u001b[0m\u001b[0;34m\u001b[0m\u001b[0;34m\u001b[0m\u001b[0m\n",
            "\u001b[0;31mModuleNotFoundError\u001b[0m: No module named 'dataset'",
            "",
            "\u001b[0;31m---------------------------------------------------------------------------\u001b[0;32m\nNOTE: If your import is failing due to a missing package, you can\nmanually install dependencies using either !pip or !apt.\n\nTo view examples of installing some common dependencies, click the\n\"Open Examples\" button below.\n\u001b[0;31m---------------------------------------------------------------------------\u001b[0m\n"
          ],
          "errorDetails": {
            "actions": [
              {
                "action": "open_url",
                "actionText": "Open Examples",
                "url": "/notebooks/snippets/importing_libraries.ipynb"
              }
            ]
          }
        }
      ]
    },
    {
      "cell_type": "markdown",
      "source": [
        "load_mnist 함수는 MNIST 데이터를 \"(훈련 이미지, 훈련레이블), (시험이미지, 시험레이블)\" 형식으로 변환한다. 인수로는 normalize, flatten, one_hot_label 세가지로 설정 할 수 있습니다. \n",
        "\n",
        "세 인수 모두 bool값입니다. \n",
        "\n",
        "첫 번째 인수인 normalize는 입력이미지의 픽셀값을  0.0 ~ 1.0사이의 값으로 정규화 할지 결정한다. False로 설정하면 원래값 그대로인 0~255사이 값으로 정한다.\n",
        "\n",
        "두 번째 인수인 flatten은 입력이미지를 평탄하게 즉 1차원 배열로 만들지를 정한다. False로 설정하면 입력이미지를 1* 28 * 28 의 3차원 배열로 정한다. True로 한다면 784개의 원소로 이루어진 1차원 배열로 정하게 된다.\n",
        "\n",
        "세번재 인수인 one_hot_label은 레이블을 원-핫 인코딩의 형태로 저장할지를 설정한다,\n",
        "원-핫 인코딩이란 예를 들어 [0,0,1,0,0] 처럼 정답을 뜻하는 원소만 1이고 나머지는 모두 0인 배열을 말한다. False이면 7이나 2와 같은 숫자형태의 레이블을 저장하고, True일 때는 레이블을 원-핫 인코딩으로 저정한다."
      ],
      "metadata": {
        "id": "KlzOHs8J2HiP"
      }
    },
    {
      "cell_type": "code",
      "source": [
        "import sys, os\n",
        "sys.path.append(os.pardir)\n",
        "import numpy as np\n",
        "from dataset.mnist import load_mnist\n",
        "from PIL import Image\n",
        "\n",
        "def img_show(img):\n",
        "    pil_img = Image.fromarray(np.uin8(img))\n",
        "    pil_img.show()\n",
        "\n",
        "(x_train, t_train), (x_test, t_test) = load_mnist(flatten=True, normalize=False)\n",
        "\n",
        "img = x_train[0]\n",
        "label = t_train[0]\n",
        "print(label) #5\n",
        "\n",
        "print(img.shape)  #(784,)\n",
        "img = img.reshape(28, 28)  #원래 이미지로 변경\n",
        "print(img.shape)    #(28,28)\n",
        "\n",
        "img_show(img)"
      ],
      "metadata": {
        "id": "ZHzOe1sifK1F"
      },
      "execution_count": null,
      "outputs": []
    },
    {
      "cell_type": "markdown",
      "source": [
        "위의 코드에서 주의할 점은 flatten=True로 설정해 읽어들인 이미지는 1차원 넘파이 배열로 저장 되어 있다는 것입니다. 그래서 이미지를 표시할 때는 원래 형상인 28*28 크기로 다시 변환해야 한다. \n",
        "\n",
        "reshape() 메서드에 원하는 형상을 인수로 지정하면 넘파이의 배열 형상을 바꿀 수 있다. 또한 넘파이로 지정된 이미지 데이터를 PIL용 데이터 객체로 변환해야하며, 이 변환은 Image.fromarray()가 수행한다.\n",
        " "
      ],
      "metadata": {
        "id": "fDxzrqdw5nd4"
      }
    },
    {
      "cell_type": "markdown",
      "source": [
        "##신경망의 추론처리"
      ],
      "metadata": {
        "id": "LzWE99O569Gi"
      }
    },
    {
      "cell_type": "markdown",
      "source": [
        "다음의 신경망은 입력층 뉴런을 784개 출력층뉴런을 10개로 구성한다. \n",
        "\n",
        "입력층이 784인 이유는 이미지 크기가 28*28이기 때문이고 출력층이 10개인 이유는 이 문제가 0부터 9까지의 숫자를 구분하는 문제이기 때문이다.\n",
        "\n",
        "은닉층은 2개로 첫번째 은닉층에는 50개 뉴런을 두 번째 은닉층에는 100개의 뉴런을 배치한다. 이것은 임의로 정한 값이다.\n"
      ],
      "metadata": {
        "id": "1O4Ydrmp7BAX"
      }
    },
    {
      "cell_type": "code",
      "source": [
        "def get_data():\n",
        "    (x_train, t_train), (x_test, t_test) = load_mnist(normalize=True, flatten=True, one_hot_label=False)\n",
        "    return x_test, t_test\n",
        "\n",
        "def init_network():\n",
        "    with open(\"smaple_weight.pkl\", 'rb') as f:\n",
        "        network = pickle.load(f)\n",
        "\n",
        "    return network\n",
        "\n",
        "def predict(network, x):\n",
        "    W1, W2, W3 = network['W1'], network['W2'], network['W3']\n",
        "    b1, b2, b3 = network['b1'], network['b2'], network['b3']\n",
        "\n",
        "    a1 = np.dot(x, W1) + b1\n",
        "    z1 = sigmoid(a1)\n",
        "    a2 = np.dot(z1, W2) +b2\n",
        "    z2 = sigmoid(a2)\n",
        "    a3 = np.dot(z2, W3) + b3\n",
        "    y = softmax(a3)\n",
        "\n",
        "    return y"
      ],
      "metadata": {
        "id": "6Da1RwnN6xrs"
      },
      "execution_count": null,
      "outputs": []
    },
    {
      "cell_type": "markdown",
      "source": [
        "init_network()에서는 pickle 파일인 sample_weight.pkl에 저장된 학습된 가중치 매개변수를 읽는다. 이 파일에는 가중치와 편향 매개변수가 딕셔너리 변수로 저장되어 있습니다."
      ],
      "metadata": {
        "id": "cfSYKpTJ9eKS"
      }
    },
    {
      "cell_type": "markdown",
      "source": [
        "###정확도 평가"
      ],
      "metadata": {
        "id": "bxvc4fbJ90aa"
      }
    },
    {
      "cell_type": "code",
      "source": [
        "x, t = get_data()\n",
        "network = init_network()\n",
        "\n",
        "accuracy_cnt = 0\n",
        "for i in range(len(x)):\n",
        "    y = predict(network, x[i])\n",
        "    p = np.argmax(y) # 확률이 가장 높은 원소의 인덱스를 얻는다.\n",
        "    if p == t[i]:\n",
        "        accuracy_cnt +=1\n",
        "print(\"Accuracy:\" + str(float(accuracy_cnt)/ len(x)))\n"
      ],
      "metadata": {
        "colab": {
          "base_uri": "https://localhost:8080/",
          "height": 372
        },
        "id": "2jnaWxA_8JX2",
        "outputId": "92c84d63-1060-413b-9245-93becbaabc38"
      },
      "execution_count": null,
      "outputs": [
        {
          "output_type": "error",
          "ename": "NameError",
          "evalue": "ignored",
          "traceback": [
            "\u001b[0;31m---------------------------------------------------------------------------\u001b[0m",
            "\u001b[0;31mNameError\u001b[0m                                 Traceback (most recent call last)",
            "\u001b[0;32m<ipython-input-4-9ca607b09a7e>\u001b[0m in \u001b[0;36m<module>\u001b[0;34m()\u001b[0m\n\u001b[0;32m----> 1\u001b[0;31m \u001b[0mx\u001b[0m\u001b[0;34m,\u001b[0m \u001b[0mt\u001b[0m \u001b[0;34m=\u001b[0m \u001b[0mget_data\u001b[0m\u001b[0;34m(\u001b[0m\u001b[0;34m)\u001b[0m\u001b[0;34m\u001b[0m\u001b[0;34m\u001b[0m\u001b[0m\n\u001b[0m\u001b[1;32m      2\u001b[0m \u001b[0mnetwork\u001b[0m \u001b[0;34m=\u001b[0m \u001b[0minit_network\u001b[0m\u001b[0;34m(\u001b[0m\u001b[0;34m)\u001b[0m\u001b[0;34m\u001b[0m\u001b[0;34m\u001b[0m\u001b[0m\n\u001b[1;32m      3\u001b[0m \u001b[0;34m\u001b[0m\u001b[0m\n\u001b[1;32m      4\u001b[0m \u001b[0maccuracy_cnt\u001b[0m \u001b[0;34m=\u001b[0m \u001b[0;36m0\u001b[0m\u001b[0;34m\u001b[0m\u001b[0;34m\u001b[0m\u001b[0m\n\u001b[1;32m      5\u001b[0m \u001b[0;32mfor\u001b[0m \u001b[0mi\u001b[0m \u001b[0;32min\u001b[0m \u001b[0mrange\u001b[0m\u001b[0;34m(\u001b[0m\u001b[0mlen\u001b[0m\u001b[0;34m(\u001b[0m\u001b[0mx\u001b[0m\u001b[0;34m)\u001b[0m\u001b[0;34m)\u001b[0m\u001b[0;34m:\u001b[0m\u001b[0;34m\u001b[0m\u001b[0;34m\u001b[0m\u001b[0m\n",
            "\u001b[0;32m<ipython-input-3-30b8763f01e7>\u001b[0m in \u001b[0;36mget_data\u001b[0;34m()\u001b[0m\n\u001b[1;32m      1\u001b[0m \u001b[0;32mdef\u001b[0m \u001b[0mget_data\u001b[0m\u001b[0;34m(\u001b[0m\u001b[0;34m)\u001b[0m\u001b[0;34m:\u001b[0m\u001b[0;34m\u001b[0m\u001b[0;34m\u001b[0m\u001b[0m\n\u001b[0;32m----> 2\u001b[0;31m     \u001b[0;34m(\u001b[0m\u001b[0mx_train\u001b[0m\u001b[0;34m,\u001b[0m \u001b[0mt_train\u001b[0m\u001b[0;34m)\u001b[0m\u001b[0;34m,\u001b[0m \u001b[0;34m(\u001b[0m\u001b[0mx_test\u001b[0m\u001b[0;34m,\u001b[0m \u001b[0mt_test\u001b[0m\u001b[0;34m)\u001b[0m \u001b[0;34m=\u001b[0m \u001b[0mload_mnist\u001b[0m\u001b[0;34m(\u001b[0m\u001b[0mnormalize\u001b[0m\u001b[0;34m=\u001b[0m\u001b[0;32mTrue\u001b[0m\u001b[0;34m,\u001b[0m \u001b[0mflatten\u001b[0m\u001b[0;34m=\u001b[0m\u001b[0;32mTrue\u001b[0m\u001b[0;34m,\u001b[0m \u001b[0mone_hot_label\u001b[0m\u001b[0;34m=\u001b[0m\u001b[0;32mFalse\u001b[0m\u001b[0;34m)\u001b[0m\u001b[0;34m\u001b[0m\u001b[0;34m\u001b[0m\u001b[0m\n\u001b[0m\u001b[1;32m      3\u001b[0m     \u001b[0;32mreturn\u001b[0m \u001b[0mx_test\u001b[0m\u001b[0;34m,\u001b[0m \u001b[0mt_test\u001b[0m\u001b[0;34m\u001b[0m\u001b[0;34m\u001b[0m\u001b[0m\n\u001b[1;32m      4\u001b[0m \u001b[0;34m\u001b[0m\u001b[0m\n\u001b[1;32m      5\u001b[0m \u001b[0;32mdef\u001b[0m \u001b[0minit_network\u001b[0m\u001b[0;34m(\u001b[0m\u001b[0;34m)\u001b[0m\u001b[0;34m:\u001b[0m\u001b[0;34m\u001b[0m\u001b[0;34m\u001b[0m\u001b[0m\n",
            "\u001b[0;31mNameError\u001b[0m: name 'load_mnist' is not defined"
          ]
        }
      ]
    },
    {
      "cell_type": "markdown",
      "source": [
        "MNIST데이터 셋을 얻고  네트워크를 생성한다. 이어서 for문을 돌며 x에 저장된 이미지 데이터를 1장씩 꺼내서 predict함수로 분류한다.\n",
        "\n",
        "넘파이 배열로[0.1, 0.3, 0.7...] 같은 배열이 반환되며, 이는 이미지 숫자'0'일 확률이 0.1 '1'일 확률이 0.3... 식으로 해석한다.\n",
        "\n",
        "그런다음np.argmax()함수로 이 배열에서 값이 가장 큰(확률이 가장 높은) 원소의 인덱스를 구합니다. 이것이 예측 결과가 된다.\n",
        "\n",
        "마지막으로, 신경망이 예측한 답변과 정답 레이블을 비교하여 맞으면 accuracy_cnt를 세고 이를 전체 이미지 숫자로 나눠 정확도를 구한다.\n",
        "\n",
        "이번 예에서는 normalize를 True로 설정했습니다. 그렇게 된다면 0 ~ 255 범위인 각 픽셀의 값을 0.0 ~ 1.0의 범위로 변환한다.\n",
        "\n",
        "이렇게 데이터를 특정 범위로 변환하는 처리를 정규화라고 한다"
      ],
      "metadata": {
        "id": "VT71FdBHAAVr"
      }
    },
    {
      "cell_type": "markdown",
      "source": [
        "## 배치처리"
      ],
      "metadata": {
        "id": "1h9w1hW-ExlS"
      }
    },
    {
      "cell_type": "code",
      "source": [
        "x, _ = get_data()\n",
        "network = init_network()\n",
        "W1, W2, W3 = network['W1'], network['W2'], network['W3']\n",
        "\n",
        "x.shape\n",
        "#(10000, 784)\n",
        "x[0].shape\n",
        "#(784,)\n",
        "W1.shape\n",
        "#(784, 50)\n",
        "W2.shape\n",
        "#(50, 100)\n",
        "W3.shape\n",
        "#(100, 10)"
      ],
      "metadata": {
        "id": "U03Bpasf-xdt"
      },
      "execution_count": null,
      "outputs": []
    },
    {
      "cell_type": "markdown",
      "source": [
        "요소가 784개인 1차원 배열 X가 입력 되었을 때 마지막에는 원소가 10개인 1차원 배열이 출력되는 흐름일 때, \n",
        "\n",
        " X        W1      W2      W3    ->    Y\n",
        "\n",
        "784   784* 50  50 * 100  100*10       10\n",
        "\n",
        "이미지 여러장을 한번에 100장을 입력하려려는 예시 ,\n",
        "\n",
        " X         W1           W2     W3    ->      Y\n",
        "\n",
        "100*784   784 * 50  50 * 100 100*10       100*10\n",
        "\n",
        "처음에 100과 마지막 Y의 100이 되어서 한번에 출력된다.\n",
        "이처럼 하나로 묶은 입력 데이터를 배치라고 한다.\n",
        "\n",
        "\n",
        " "
      ],
      "metadata": {
        "id": "FIisN6Nu8W46"
      }
    },
    {
      "cell_type": "markdown",
      "source": [
        "##배치 처리 구현"
      ],
      "metadata": {
        "id": "nmBZIj2__eir"
      }
    },
    {
      "cell_type": "markdown",
      "source": [
        "range()함수는 range(start, end, step) 일 때 start에서 end-1까지 step간격으로 증가하는 리스트를 변환한다."
      ],
      "metadata": {
        "id": "0I8IVMRyCBV7"
      }
    },
    {
      "cell_type": "markdown",
      "source": [
        "밑에 코드에서는 batch_size가 100임으로 x[0:100], x[100:200],....와같이 앞에서부터 100장씩 묶어서 꺼내게 된다."
      ],
      "metadata": {
        "id": "zZQaarfLC7o2"
      }
    },
    {
      "cell_type": "code",
      "source": [
        "x, t =get_data()\n",
        "network = init_network()\n",
        "\n",
        "batch_size = 100   #배치크기\n",
        "accuracy_cnt = 0\n",
        "\n",
        "for i in range(0, len(x), batch_size):\n",
        "    x_batch = x[i:i+batch_size]\n",
        "    y_batch = predict(network, x_batch)\n",
        "    p = np.array(y_batch, axis=1)\n",
        "    accuracy_cnt = np.sum(p == t[i:i+batch_size])\n",
        "print(\"Accuracy:\" +str(float(accuracy) / len(x)))"
      ],
      "metadata": {
        "id": "r8ilpP-3_QxX"
      },
      "execution_count": null,
      "outputs": []
    },
    {
      "cell_type": "markdown",
      "source": [
        "위에서 나온 argmax()는 최댓값의 인덱스를 가져온다. 다만 여기서는 axis=1이라는 인수를 추가한 것에 주의해야 한다. \n",
        "\n",
        "이 말은 100*10의 배열중 1번째 차원을 기준으로 차원을 구성하는 가장 큰 값을 최댓값의 인덱스를 찾도록 한 것이다. "
      ],
      "metadata": {
        "id": "9lPrBPPxHQTe"
      }
    },
    {
      "cell_type": "code",
      "source": [
        "x = np.array([[0.1, 0.5, 0.3], [0.3, 0.1, 0.6], [0.2, 0.5, 0.3]])\n",
        "y = np.argmax(x, axis=1)\n",
        "print(y)"
      ],
      "metadata": {
        "colab": {
          "base_uri": "https://localhost:8080/"
        },
        "id": "IUwSiQABHXzH",
        "outputId": "3aa69a19-0f0b-4226-c7f8-879f4e47dfda"
      },
      "execution_count": null,
      "outputs": [
        {
          "output_type": "stream",
          "name": "stdout",
          "text": [
            "[1 2 1]\n"
          ]
        }
      ]
    },
    {
      "cell_type": "markdown",
      "source": [
        "이제 분류된 것을 배치 단위로 실제 답과 비교한다. 이를 위해 == 연산자를 사용해 넘파이 배열끼리 비교하여 True/ False로 구성된 bool배열을 만들고 이결과 배열에서 True가 몇개인지 센다. "
      ],
      "metadata": {
        "id": "dswldK58H5Td"
      }
    },
    {
      "cell_type": "code",
      "source": [
        "y = np.array([1, 2, 1, 0])\n",
        "t = np.array([1, 2, 0, 0])\n",
        "print(y == t)\n",
        "np.sum(y == t)"
      ],
      "metadata": {
        "colab": {
          "base_uri": "https://localhost:8080/"
        },
        "id": "hDBS4E3VHo95",
        "outputId": "c4e2ca34-e90f-4060-e923-47c69d00d972"
      },
      "execution_count": null,
      "outputs": [
        {
          "output_type": "stream",
          "name": "stdout",
          "text": [
            "[ True  True False  True]\n"
          ]
        },
        {
          "output_type": "execute_result",
          "data": {
            "text/plain": [
              "3"
            ]
          },
          "metadata": {},
          "execution_count": 6
        }
      ]
    },
    {
      "cell_type": "markdown",
      "source": [
        ""
      ],
      "metadata": {
        "id": "qbJHOQKwIcsh"
      }
    },
    {
      "cell_type": "code",
      "source": [
        ""
      ],
      "metadata": {
        "id": "Q_kroW_TIYuh"
      },
      "execution_count": null,
      "outputs": []
    }
  ]
}